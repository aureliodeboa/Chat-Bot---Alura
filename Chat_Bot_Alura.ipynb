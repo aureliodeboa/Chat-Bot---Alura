{
  "nbformat": 4,
  "nbformat_minor": 0,
  "metadata": {
    "colab": {
      "provenance": [],
      "authorship_tag": "ABX9TyMGJNIBuZ92nkHUykTBvX7B",
      "include_colab_link": true
    },
    "kernelspec": {
      "name": "python3",
      "display_name": "Python 3"
    },
    "language_info": {
      "name": "python"
    }
  },
  "cells": [
    {
      "cell_type": "markdown",
      "metadata": {
        "id": "view-in-github",
        "colab_type": "text"
      },
      "source": [
        "<a href=\"https://colab.research.google.com/github/aureliodeboa/Chat-Bot---Alura/blob/main/Chat_Bot_Alura.ipynb\" target=\"_parent\"><img src=\"https://colab.research.google.com/assets/colab-badge.svg\" alt=\"Open In Colab\"/></a>"
      ]
    },
    {
      "cell_type": "markdown",
      "source": [
        "# **Chat Bot - Alura**"
      ],
      "metadata": {
        "id": "AdmxbsWDBI5U"
      }
    },
    {
      "cell_type": "code",
      "execution_count": null,
      "metadata": {
        "id": "A20qC9tEAvDl"
      },
      "outputs": [],
      "source": [
        "!pip install -q -U google-generativeai"
      ]
    },
    {
      "cell_type": "code",
      "source": [
        "import google.generativeai as genai\n",
        "GOOGLE_API_KEY= \"API_KEY\"\n",
        "genai.configure(api_key=GOOGLE_API_KEY)"
      ],
      "metadata": {
        "id": "lrDyCqblBIa1"
      },
      "execution_count": null,
      "outputs": []
    },
    {
      "cell_type": "code",
      "source": [
        "#Listando os modelos disponíveis\n",
        "for m in genai.list_models():\n",
        "  if 'generateContent' in m.supported_generation_methods:\n",
        "    print(m.name)"
      ],
      "metadata": {
        "colab": {
          "base_uri": "https://localhost:8080/",
          "height": 138
        },
        "id": "iafr-cJcDOsv",
        "outputId": "2f7d66f8-671f-4fea-ae4b-8cc96ca2dd47"
      },
      "execution_count": null,
      "outputs": [
        {
          "output_type": "stream",
          "name": "stdout",
          "text": [
            "models/gemini-1.0-pro\n",
            "models/gemini-1.0-pro-001\n",
            "models/gemini-1.0-pro-latest\n",
            "models/gemini-1.0-pro-vision-latest\n",
            "models/gemini-1.5-pro-latest\n",
            "models/gemini-pro\n",
            "models/gemini-pro-vision\n"
          ]
        }
      ]
    },
    {
      "cell_type": "code",
      "source": [
        "generation_config = {\n",
        "  \"candidate_count\": 1,\n",
        "  \"temperature\": 0.5,\n",
        "}"
      ],
      "metadata": {
        "id": "Oty1RKF8OUCs"
      },
      "execution_count": null,
      "outputs": []
    },
    {
      "cell_type": "code",
      "source": [
        "safety_settings={\n",
        "    'HATE': 'BLOCK_NONE',\n",
        "    'HARASSMENT': 'BLOCK_NONE',\n",
        "    'SEXUAL' : 'BLOCK_NONE',\n",
        "    'DANGEROUS' : 'BLOCK_NONE'\n",
        "    }"
      ],
      "metadata": {
        "id": "CCQhmTyLOV58"
      },
      "execution_count": null,
      "outputs": []
    },
    {
      "cell_type": "code",
      "source": [
        "model = genai.GenerativeModel(model_name='gemini-1.0-pro',\n",
        "                                  generation_config=generation_config,\n",
        "                                  safety_settings=safety_settings,)"
      ],
      "metadata": {
        "id": "b38C3D-POXh6"
      },
      "execution_count": null,
      "outputs": []
    },
    {
      "cell_type": "code",
      "source": [
        "response = model.generate_content(\"Que empresa criou o modelo de IA Gemini?\")\n",
        "response.text"
      ],
      "metadata": {
        "colab": {
          "base_uri": "https://localhost:8080/",
          "height": 36
        },
        "id": "3T_qFNYtOZqM",
        "outputId": "324f5f4b-b711-4656-bbdf-e91b5543a2fa"
      },
      "execution_count": null,
      "outputs": [
        {
          "output_type": "execute_result",
          "data": {
            "text/plain": [
              "'Google'"
            ],
            "application/vnd.google.colaboratory.intrinsic+json": {
              "type": "string"
            }
          },
          "metadata": {},
          "execution_count": 12
        }
      ]
    },
    {
      "cell_type": "code",
      "source": [
        "chat = model.start_chat(history=[])\n",
        "\n",
        "prompt = input('Esperando prompt: ')\n",
        "\n",
        "while prompt != \"fim\":\n",
        "  response = chat.send_message(prompt)\n",
        "  print(\"Resposta:\", response.text, '\\n\\n')\n",
        "  prompt = input('Esperando prompt: ')"
      ],
      "metadata": {
        "colab": {
          "base_uri": "https://localhost:8080/",
          "height": 297
        },
        "id": "XjZhfvDkObYi",
        "outputId": "994d2d49-4d0d-4395-db48-edf397a11db7"
      },
      "execution_count": null,
      "outputs": [
        {
          "name": "stdout",
          "output_type": "stream",
          "text": [
            "Esperando prompt: qual o valor do BTC?\n",
            "Resposta: O valor atual do Bitcoin (BTC) pode variar dependendo da plataforma de negociação e do momento. Para obter o valor mais atualizado, consulte uma plataforma de negociação de criptomoedas confiável, como Binance, Coinbase ou Kraken. \n",
            "\n",
            "\n",
            "Esperando prompt: agora quanto é?\n",
            "Resposta: O preço atual do Bitcoin (BTC) em 28 de fevereiro de 2023, às 15h30 UTC, é de aproximadamente:\n",
            "\n",
            "* **US$ 23.900** na Binance\n",
            "* **US$ 23.910** na Coinbase\n",
            "* **US$ 23.920** na Kraken\n",
            "\n",
            "Observe que esses preços podem flutuar rapidamente, portanto, verifique uma plataforma de negociação de criptomoedas confiável para obter o valor mais atualizado. \n",
            "\n",
            "\n",
            "Esperando prompt: fim\n"
          ]
        }
      ]
    },
    {
      "cell_type": "code",
      "source": [
        "chat"
      ],
      "metadata": {
        "colab": {
          "base_uri": "https://localhost:8080/"
        },
        "id": "yMTUlthWOdVS",
        "outputId": "6053fa86-711e-4c29-dd92-2b4638d75b97"
      },
      "execution_count": null,
      "outputs": [
        {
          "output_type": "execute_result",
          "data": {
            "text/plain": [
              "ChatSession(\n",
              "    model=genai.GenerativeModel(\n",
              "        model_name='models/gemini-1.0-pro',\n",
              "        generation_config={'candidate_count': 1, 'temperature': 0.5},\n",
              "        safety_settings={<HarmCategory.HARM_CATEGORY_HATE_SPEECH: 8>: <HarmBlockThreshold.BLOCK_NONE: 4>, <HarmCategory.HARM_CATEGORY_HARASSMENT: 7>: <HarmBlockThreshold.BLOCK_NONE: 4>, <HarmCategory.HARM_CATEGORY_SEXUALLY_EXPLICIT: 9>: <HarmBlockThreshold.BLOCK_NONE: 4>, <HarmCategory.HARM_CATEGORY_DANGEROUS_CONTENT: 10>: <HarmBlockThreshold.BLOCK_NONE: 4>},\n",
              "        tools=None,\n",
              "        system_instruction=None,\n",
              "    ),\n",
              "    history=[glm.Content({'parts': [{'text': 'qual o valor do BTC?'}], 'role': 'user'}), glm.Content({'parts': [{'text': 'O valor atua...se ou Kraken.'}], 'role': 'model'}), glm.Content({'parts': [{'text': 'agora quanto é?'}], 'role': 'user'}), glm.Content({'parts': [{'text': 'O preço atua...s atualizado.'}], 'role': 'model'})]\n",
              ")"
            ]
          },
          "metadata": {},
          "execution_count": 14
        }
      ]
    },
    {
      "cell_type": "code",
      "source": [
        "chat.history"
      ],
      "metadata": {
        "colab": {
          "base_uri": "https://localhost:8080/"
        },
        "id": "9WqJDBoUOe0z",
        "outputId": "2b23f0fb-f32a-4340-fb77-83d526e0cd98"
      },
      "execution_count": null,
      "outputs": [
        {
          "output_type": "execute_result",
          "data": {
            "text/plain": [
              "[parts {\n",
              "   text: \"qual o valor do BTC?\"\n",
              " }\n",
              " role: \"user\",\n",
              " parts {\n",
              "   text: \"O valor atual do Bitcoin (BTC) pode variar dependendo da plataforma de negocia\\303\\247\\303\\243o e do momento. Para obter o valor mais atualizado, consulte uma plataforma de negocia\\303\\247\\303\\243o de criptomoedas confi\\303\\241vel, como Binance, Coinbase ou Kraken.\"\n",
              " }\n",
              " role: \"model\",\n",
              " parts {\n",
              "   text: \"agora quanto \\303\\251?\"\n",
              " }\n",
              " role: \"user\",\n",
              " parts {\n",
              "   text: \"O pre\\303\\247o atual do Bitcoin (BTC) em 28 de fevereiro de 2023, \\303\\240s 15h30 UTC, \\303\\251 de aproximadamente:\\n\\n* **US$ 23.900** na Binance\\n* **US$ 23.910** na Coinbase\\n* **US$ 23.920** na Kraken\\n\\nObserve que esses pre\\303\\247os podem flutuar rapidamente, portanto, verifique uma plataforma de negocia\\303\\247\\303\\243o de criptomoedas confi\\303\\241vel para obter o valor mais atualizado.\"\n",
              " }\n",
              " role: \"model\"]"
            ]
          },
          "metadata": {},
          "execution_count": 15
        }
      ]
    },
    {
      "cell_type": "code",
      "source": [
        "#Melhorando a visualização\n",
        "#Código disponível em https://ai.google.dev/tutorials/python_quickstart#import_packages\n",
        "import textwrap\n",
        "from IPython.display import display\n",
        "from IPython.display import Markdown\n",
        "\n",
        "def to_markdown(text):\n",
        "  text = text.replace('•', '  *')\n",
        "  return Markdown(textwrap.indent(text, '> ', predicate=lambda _: True))\n",
        "\n",
        "#Imprimindo o histórico\n",
        "for message in chat.history:\n",
        "  display(to_markdown(f'**{message.role}**: {message.parts[0].text}'))\n",
        "  print('-------------------------------------------')"
      ],
      "metadata": {
        "colab": {
          "base_uri": "https://localhost:8080/",
          "height": 371
        },
        "id": "qXmAqQg2Og0b",
        "outputId": "b1e3006d-1964-47c7-8d48-26da63921cb5"
      },
      "execution_count": null,
      "outputs": [
        {
          "output_type": "display_data",
          "data": {
            "text/plain": [
              "<IPython.core.display.Markdown object>"
            ],
            "text/markdown": "> **user**: qual o valor do BTC?"
          },
          "metadata": {}
        },
        {
          "output_type": "stream",
          "name": "stdout",
          "text": [
            "-------------------------------------------\n"
          ]
        },
        {
          "output_type": "display_data",
          "data": {
            "text/plain": [
              "<IPython.core.display.Markdown object>"
            ],
            "text/markdown": "> **model**: O valor atual do Bitcoin (BTC) pode variar dependendo da plataforma de negociação e do momento. Para obter o valor mais atualizado, consulte uma plataforma de negociação de criptomoedas confiável, como Binance, Coinbase ou Kraken."
          },
          "metadata": {}
        },
        {
          "output_type": "stream",
          "name": "stdout",
          "text": [
            "-------------------------------------------\n"
          ]
        },
        {
          "output_type": "display_data",
          "data": {
            "text/plain": [
              "<IPython.core.display.Markdown object>"
            ],
            "text/markdown": "> **user**: agora quanto é?"
          },
          "metadata": {}
        },
        {
          "output_type": "stream",
          "name": "stdout",
          "text": [
            "-------------------------------------------\n"
          ]
        },
        {
          "output_type": "display_data",
          "data": {
            "text/plain": [
              "<IPython.core.display.Markdown object>"
            ],
            "text/markdown": "> **model**: O preço atual do Bitcoin (BTC) em 28 de fevereiro de 2023, às 15h30 UTC, é de aproximadamente:\n> \n> * **US$ 23.900** na Binance\n> * **US$ 23.910** na Coinbase\n> * **US$ 23.920** na Kraken\n> \n> Observe que esses preços podem flutuar rapidamente, portanto, verifique uma plataforma de negociação de criptomoedas confiável para obter o valor mais atualizado."
          },
          "metadata": {}
        },
        {
          "output_type": "stream",
          "name": "stdout",
          "text": [
            "-------------------------------------------\n"
          ]
        }
      ]
    }
  ]
}